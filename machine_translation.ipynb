{
 "cells": [
  {
   "cell_type": "markdown",
   "metadata": {},
   "source": [
    "# Artificial Intelligence Nanodegree\n",
    "## Machine Translation Project\n",
    "In this notebook, sections that end with **'(IMPLEMENTATION)'** in the header indicate that the following blocks of code will require additional functionality which you must provide. Please be sure to read the instructions carefully!\n",
    "\n",
    "## Introduction\n",
    "In this notebook, you will build a deep neural network that functions as part of an end-to-end machine translation pipeline. Your completed pipeline will accept English text as input and return the French translation.\n",
    "\n",
    "- **Preprocess** - You'll convert text to sequence of integers.\n",
    "- **Models** Create models which accepts a sequence of integers as input and returns a probability distribution over possible translations. After learning about the basic types of neural networks that are often used for machine translation, you will engage in your own investigations, to design your own model!\n",
    "- **Prediction** Run the model on English text."
   ]
  },
  {
   "cell_type": "code",
   "execution_count": 61,
   "metadata": {},
   "outputs": [
    {
     "name": "stdout",
     "output_type": "stream",
     "text": [
      "The autoreload extension is already loaded. To reload it, use:\n",
      "  %reload_ext autoreload\n"
     ]
    }
   ],
   "source": [
    "%load_ext autoreload\n",
    "%aimport helper, tests\n",
    "%autoreload 1"
   ]
  },
  {
   "cell_type": "code",
   "execution_count": 77,
   "metadata": {},
   "outputs": [],
   "source": [
    "import collections\n",
    "\n",
    "import helper\n",
    "import numpy as np\n",
    "import project_tests as tests\n",
    "\n",
    "from keras.preprocessing.text import Tokenizer\n",
    "from keras.preprocessing.sequence import pad_sequences\n",
    "from keras.models import Model, Sequential\n",
    "from keras.layers import GRU, Input, Dense, TimeDistributed, Activation, RepeatVector, Bidirectional, Dropout\n",
    "from keras.layers.embeddings import Embedding\n",
    "from keras.optimizers import Adam\n",
    "from keras.losses import sparse_categorical_crossentropy, categorical_crossentropy"
   ]
  },
  {
   "cell_type": "markdown",
   "metadata": {},
   "source": [
    "### Verify access to the GPU\n",
    "The following test applies only if you expect to be using a GPU, e.g., while running in a Udacity Workspace or using an AWS instance with GPU support. Run the next cell, and verify that the device_type is \"GPU\".\n",
    "- If the device is not GPU & you are running from a Udacity Workspace, then save your workspace with the icon at the top, then click \"enable\" at the bottom of the workspace.\n",
    "- If the device is not GPU & you are running from an AWS instance, then refer to the cloud computing instructions in the classroom to verify your setup steps."
   ]
  },
  {
   "cell_type": "code",
   "execution_count": 63,
   "metadata": {},
   "outputs": [
    {
     "name": "stdout",
     "output_type": "stream",
     "text": [
      "[name: \"/device:CPU:0\"\n",
      "device_type: \"CPU\"\n",
      "memory_limit: 268435456\n",
      "locality {\n",
      "}\n",
      "incarnation: 5542440549196143186\n",
      ", name: \"/device:GPU:0\"\n",
      "device_type: \"GPU\"\n",
      "memory_limit: 7903992218\n",
      "locality {\n",
      "  bus_id: 1\n",
      "  links {\n",
      "    link {\n",
      "      device_id: 1\n",
      "      type: \"StreamExecutor\"\n",
      "      strength: 1\n",
      "    }\n",
      "  }\n",
      "}\n",
      "incarnation: 10660333695305304795\n",
      "physical_device_desc: \"device: 0, name: GeForce GTX 1080, pci bus id: 0000:17:00.0, compute capability: 6.1\"\n",
      ", name: \"/device:GPU:1\"\n",
      "device_type: \"GPU\"\n",
      "memory_limit: 7901003776\n",
      "locality {\n",
      "  bus_id: 1\n",
      "  links {\n",
      "    link {\n",
      "      type: \"StreamExecutor\"\n",
      "      strength: 1\n",
      "    }\n",
      "  }\n",
      "}\n",
      "incarnation: 10484452573671221530\n",
      "physical_device_desc: \"device: 1, name: GeForce GTX 1080, pci bus id: 0000:65:00.0, compute capability: 6.1\"\n",
      "]\n"
     ]
    }
   ],
   "source": [
    "from tensorflow.python.client import device_lib\n",
    "print(device_lib.list_local_devices())"
   ]
  },
  {
   "cell_type": "markdown",
   "metadata": {},
   "source": [
    "## Dataset\n",
    "We begin by investigating the dataset that will be used to train and evaluate your pipeline.  The most common datasets used for machine translation are from [WMT](http://www.statmt.org/).  However, that will take a long time to train a neural network on.  We'll be using a dataset we created for this project that contains a small vocabulary.  You'll be able to train your model in a reasonable time with this dataset.\n",
    "### Load Data\n",
    "The data is located in `data/small_vocab_en` and `data/small_vocab_fr`. The `small_vocab_en` file contains English sentences with their French translations in the `small_vocab_fr` file. Load the English and French data from these files from running the cell below."
   ]
  },
  {
   "cell_type": "code",
   "execution_count": 64,
   "metadata": {},
   "outputs": [
    {
     "name": "stdout",
     "output_type": "stream",
     "text": [
      "Dataset Loaded\n"
     ]
    }
   ],
   "source": [
    "# Load English data\n",
    "english_sentences = helper.load_data('data/small_vocab_en')\n",
    "# Load French data\n",
    "french_sentences = helper.load_data('data/small_vocab_fr')\n",
    "\n",
    "print('Dataset Loaded')"
   ]
  },
  {
   "cell_type": "markdown",
   "metadata": {},
   "source": [
    "### Files\n",
    "Each line in `small_vocab_en` contains an English sentence with the respective translation in each line of `small_vocab_fr`.  View the first two lines from each file."
   ]
  },
  {
   "cell_type": "code",
   "execution_count": 65,
   "metadata": {},
   "outputs": [
    {
     "name": "stdout",
     "output_type": "stream",
     "text": [
      "small_vocab_en Line 1:  new jersey is sometimes quiet during autumn , and it is snowy in april .\n",
      "small_vocab_fr Line 1:  new jersey est parfois calme pendant l' automne , et il est neigeux en avril .\n",
      "small_vocab_en Line 2:  the united states is usually chilly during july , and it is usually freezing in november .\n",
      "small_vocab_fr Line 2:  les états-unis est généralement froid en juillet , et il gèle habituellement en novembre .\n"
     ]
    }
   ],
   "source": [
    "for sample_i in range(2):\n",
    "    print('small_vocab_en Line {}:  {}'.format(sample_i + 1, english_sentences[sample_i]))\n",
    "    print('small_vocab_fr Line {}:  {}'.format(sample_i + 1, french_sentences[sample_i]))"
   ]
  },
  {
   "cell_type": "markdown",
   "metadata": {},
   "source": [
    "From looking at the sentences, you can see they have been preprocessed already.  The puncuations have been delimited using spaces. All the text have been converted to lowercase.  This should save you some time, but the text requires more preprocessing.\n",
    "### Vocabulary\n",
    "The complexity of the problem is determined by the complexity of the vocabulary.  A more complex vocabulary is a more complex problem.  Let's look at the complexity of the dataset we'll be working with."
   ]
  },
  {
   "cell_type": "code",
   "execution_count": 66,
   "metadata": {},
   "outputs": [
    {
     "name": "stdout",
     "output_type": "stream",
     "text": [
      "1823250 English words.\n",
      "227 unique English words.\n",
      "10 Most common words in the English dataset:\n",
      "\"is\" \",\" \".\" \"in\" \"it\" \"during\" \"the\" \"but\" \"and\" \"sometimes\"\n",
      "\n",
      "1961295 French words.\n",
      "355 unique French words.\n",
      "10 Most common words in the French dataset:\n",
      "\"est\" \".\" \",\" \"en\" \"il\" \"les\" \"mais\" \"et\" \"la\" \"parfois\"\n"
     ]
    }
   ],
   "source": [
    "english_words_counter = collections.Counter([word for sentence in english_sentences for word in sentence.split()])\n",
    "french_words_counter = collections.Counter([word for sentence in french_sentences for word in sentence.split()])\n",
    "\n",
    "print('{} English words.'.format(len([word for sentence in english_sentences for word in sentence.split()])))\n",
    "print('{} unique English words.'.format(len(english_words_counter)))\n",
    "print('10 Most common words in the English dataset:')\n",
    "print('\"' + '\" \"'.join(list(zip(*english_words_counter.most_common(10)))[0]) + '\"')\n",
    "print()\n",
    "print('{} French words.'.format(len([word for sentence in french_sentences for word in sentence.split()])))\n",
    "print('{} unique French words.'.format(len(french_words_counter)))\n",
    "print('10 Most common words in the French dataset:')\n",
    "print('\"' + '\" \"'.join(list(zip(*french_words_counter.most_common(10)))[0]) + '\"')"
   ]
  },
  {
   "cell_type": "markdown",
   "metadata": {},
   "source": [
    "For comparison, _Alice's Adventures in Wonderland_ contains 2,766 unique words of a total of 15,500 words.\n",
    "## Preprocess\n",
    "For this project, you won't use text data as input to your model. Instead, you'll convert the text into sequences of integers using the following preprocess methods:\n",
    "1. Tokenize the words into ids\n",
    "2. Add padding to make all the sequences the same length.\n",
    "\n",
    "Time to start preprocessing the data...\n",
    "### Tokenize (IMPLEMENTATION)\n",
    "For a neural network to predict on text data, it first has to be turned into data it can understand. Text data like \"dog\" is a sequence of ASCII character encodings.  Since a neural network is a series of multiplication and addition operations, the input data needs to be number(s).\n",
    "\n",
    "We can turn each character into a number or each word into a number.  These are called character and word ids, respectively.  Character ids are used for character level models that generate text predictions for each character.  A word level model uses word ids that generate text predictions for each word.  Word level models tend to learn better, since they are lower in complexity, so we'll use those.\n",
    "\n",
    "Turn each sentence into a sequence of words ids using Keras's [`Tokenizer`](https://keras.io/preprocessing/text/#tokenizer) function. Use this function to tokenize `english_sentences` and `french_sentences` in the cell below.\n",
    "\n",
    "Running the cell will run `tokenize` on sample data and show output for debugging."
   ]
  },
  {
   "cell_type": "code",
   "execution_count": 67,
   "metadata": {},
   "outputs": [
    {
     "name": "stdout",
     "output_type": "stream",
     "text": [
      "{'quick': 2, 'study': 13, 'my': 12, 'brown': 4, 'short': 20, 'a': 3, 'lazy': 8, 'won': 16, 'by': 10, 'jove': 11, 'dog': 9, 'of': 14, 'sentence': 21, 'jumps': 6, 'fox': 5, 'lexicography': 15, 'the': 1, 'over': 7, 'this': 18, 'prize': 17, 'is': 19}\n",
      "\n",
      "Sequence 1 in x\n",
      "  Input:  The quick brown fox jumps over the lazy dog .\n",
      "  Output: [1, 2, 4, 5, 6, 7, 1, 8, 9]\n",
      "Sequence 2 in x\n",
      "  Input:  By Jove , my quick study of lexicography won a prize .\n",
      "  Output: [10, 11, 12, 2, 13, 14, 15, 16, 3, 17]\n",
      "Sequence 3 in x\n",
      "  Input:  This is a short sentence .\n",
      "  Output: [18, 19, 3, 20, 21]\n"
     ]
    }
   ],
   "source": [
    "def tokenize(x):\n",
    "    \"\"\"\n",
    "    Tokenize x\n",
    "    :param x: List of sentences/strings to be tokenized\n",
    "    :return: Tuple of (tokenized x data, tokenizer used to tokenize x)\n",
    "    \"\"\"\n",
    "    t = Tokenizer()\n",
    "    t.fit_on_texts(x)\n",
    "    return t.texts_to_sequences(x), t\n",
    "tests.test_tokenize(tokenize)\n",
    "\n",
    "# Tokenize Example output\n",
    "text_sentences = [\n",
    "    'The quick brown fox jumps over the lazy dog .',\n",
    "    'By Jove , my quick study of lexicography won a prize .',\n",
    "    'This is a short sentence .']\n",
    "text_tokenized, text_tokenizer = tokenize(text_sentences)\n",
    "print(text_tokenizer.word_index)\n",
    "print()\n",
    "for sample_i, (sent, token_sent) in enumerate(zip(text_sentences, text_tokenized)):\n",
    "    print('Sequence {} in x'.format(sample_i + 1))\n",
    "    print('  Input:  {}'.format(sent))\n",
    "    print('  Output: {}'.format(token_sent))"
   ]
  },
  {
   "cell_type": "markdown",
   "metadata": {},
   "source": [
    "### Padding (IMPLEMENTATION)\n",
    "When batching the sequence of word ids together, each sequence needs to be the same length.  Since sentences are dynamic in length, we can add padding to the end of the sequences to make them the same length.\n",
    "\n",
    "Make sure all the English sequences have the same length and all the French sequences have the same length by adding padding to the **end** of each sequence using Keras's [`pad_sequences`](https://keras.io/preprocessing/sequence/#pad_sequences) function."
   ]
  },
  {
   "cell_type": "code",
   "execution_count": 68,
   "metadata": {},
   "outputs": [
    {
     "name": "stdout",
     "output_type": "stream",
     "text": [
      "Sequence 1 in x\n",
      "  Input:  [1 2 4 5 6 7 1 8 9]\n",
      "  Output: [1 2 4 5 6 7 1 8 9 0]\n",
      "Sequence 2 in x\n",
      "  Input:  [10 11 12  2 13 14 15 16  3 17]\n",
      "  Output: [10 11 12  2 13 14 15 16  3 17]\n",
      "Sequence 3 in x\n",
      "  Input:  [18 19  3 20 21]\n",
      "  Output: [18 19  3 20 21  0  0  0  0  0]\n"
     ]
    }
   ],
   "source": [
    "\n",
    "def pad(x, length=None):\n",
    "    \"\"\"\n",
    "    Pad x\n",
    "    :param x: List of sequences.\n",
    "    :param length: Length to pad the sequence to.  If None, use length of longest sequence in x.\n",
    "    :return: Padded numpy array of sequences\n",
    "    \"\"\"\n",
    "    return pad_sequences(x, maxlen=length, padding='post')\n",
    "tests.test_pad(pad)\n",
    "\n",
    "# Pad Tokenized output\n",
    "test_pad = pad(text_tokenized)\n",
    "for sample_i, (token_sent, pad_sent) in enumerate(zip(text_tokenized, test_pad)):\n",
    "    print('Sequence {} in x'.format(sample_i + 1))\n",
    "    print('  Input:  {}'.format(np.array(token_sent)))\n",
    "    print('  Output: {}'.format(pad_sent))"
   ]
  },
  {
   "cell_type": "markdown",
   "metadata": {},
   "source": [
    "### Preprocess Pipeline\n",
    "Your focus for this project is to build neural network architecture, so we won't ask you to create a preprocess pipeline.  Instead, we've provided you with the implementation of the `preprocess` function."
   ]
  },
  {
   "cell_type": "code",
   "execution_count": 69,
   "metadata": {},
   "outputs": [
    {
     "name": "stdout",
     "output_type": "stream",
     "text": [
      "Data Preprocessed\n",
      "Max English sentence length: 15\n",
      "Max French sentence length: 21\n",
      "English vocabulary size: 199\n",
      "French vocabulary size: 344\n"
     ]
    }
   ],
   "source": [
    "def preprocess(x, y):\n",
    "    \"\"\"\n",
    "    Preprocess x and y\n",
    "    :param x: Feature List of sentences\n",
    "    :param y: Label List of sentences\n",
    "    :return: Tuple of (Preprocessed x, Preprocessed y, x tokenizer, y tokenizer)\n",
    "    \"\"\"\n",
    "    preprocess_x, x_tk = tokenize(x)\n",
    "    preprocess_y, y_tk = tokenize(y)\n",
    "\n",
    "    preprocess_x = pad(preprocess_x)\n",
    "    preprocess_y = pad(preprocess_y)\n",
    "\n",
    "    # Keras's sparse_categorical_crossentropy function requires the labels to be in 3 dimensions\n",
    "    preprocess_y = preprocess_y.reshape(*preprocess_y.shape, 1)\n",
    "\n",
    "    return preprocess_x, preprocess_y, x_tk, y_tk\n",
    "\n",
    "preproc_english_sentences, preproc_french_sentences, english_tokenizer, french_tokenizer =\\\n",
    "    preprocess(english_sentences, french_sentences)\n",
    "    \n",
    "max_english_sequence_length = preproc_english_sentences.shape[1]\n",
    "max_french_sequence_length = preproc_french_sentences.shape[1]\n",
    "english_vocab_size = len(english_tokenizer.word_index)\n",
    "french_vocab_size = len(french_tokenizer.word_index)\n",
    "\n",
    "print('Data Preprocessed')\n",
    "print(\"Max English sentence length:\", max_english_sequence_length)\n",
    "print(\"Max French sentence length:\", max_french_sequence_length)\n",
    "print(\"English vocabulary size:\", english_vocab_size)\n",
    "print(\"French vocabulary size:\", french_vocab_size)"
   ]
  },
  {
   "cell_type": "markdown",
   "metadata": {},
   "source": [
    "## Models\n",
    "In this section, you will experiment with various neural network architectures.\n",
    "You will begin by training four relatively simple architectures.\n",
    "- Model 1 is a simple RNN\n",
    "- Model 2 is a RNN with Embedding\n",
    "- Model 3 is a Bidirectional RNN\n",
    "- Model 4 is an optional Encoder-Decoder RNN\n",
    "\n",
    "After experimenting with the four simple architectures, you will construct a deeper architecture that is designed to outperform all four models.\n",
    "### Ids Back to Text\n",
    "The neural network will be translating the input to words ids, which isn't the final form we want.  We want the French translation.  The function `logits_to_text` will bridge the gab between the logits from the neural network to the French translation.  You'll be using this function to better understand the output of the neural network."
   ]
  },
  {
   "cell_type": "code",
   "execution_count": 70,
   "metadata": {},
   "outputs": [
    {
     "name": "stdout",
     "output_type": "stream",
     "text": [
      "`logits_to_text` function loaded.\n"
     ]
    }
   ],
   "source": [
    "def logits_to_text(logits, tokenizer):\n",
    "    \"\"\"\n",
    "    Turn logits from a neural network into text using the tokenizer\n",
    "    :param logits: Logits from a neural network\n",
    "    :param tokenizer: Keras Tokenizer fit on the labels\n",
    "    :return: String that represents the text of the logits\n",
    "    \"\"\"\n",
    "    index_to_words = {id: word for word, id in tokenizer.word_index.items()}\n",
    "    index_to_words[0] = '<PAD>'\n",
    "\n",
    "    return ' '.join([index_to_words[prediction] for prediction in np.argmax(logits, 1)])\n",
    "\n",
    "print('`logits_to_text` function loaded.')"
   ]
  },
  {
   "cell_type": "markdown",
   "metadata": {},
   "source": [
    "### Model 1: RNN (IMPLEMENTATION)\n",
    "![RNN](images/rnn.png)\n",
    "A basic RNN model is a good baseline for sequence data.  In this model, you'll build a RNN that translates English to French."
   ]
  },
  {
   "cell_type": "code",
   "execution_count": 82,
   "metadata": {},
   "outputs": [
    {
     "name": "stderr",
     "output_type": "stream",
     "text": [
      "/home/pjordan/anaconda3/envs/aind-nlp-capstone/lib/python3.5/site-packages/keras/engine/sequential.py:109: UserWarning: `Sequential.model` is deprecated. `Sequential` is a subclass of `Model`, you can just use your `Sequential` instance directly.\n",
      "  warnings.warn('`Sequential.model` is deprecated. '\n"
     ]
    },
    {
     "name": "stdout",
     "output_type": "stream",
     "text": [
      "_________________________________________________________________\n",
      "Layer (type)                 Output Shape              Param #   \n",
      "=================================================================\n",
      "gru_117 (GRU)                (None, 21, 600)           1083600   \n",
      "_________________________________________________________________\n",
      "dropout_6 (Dropout)          (None, 21, 600)           0         \n",
      "_________________________________________________________________\n",
      "time_distributed_86 (TimeDis (None, 21, 344)           206744    \n",
      "=================================================================\n",
      "Total params: 1,290,344\n",
      "Trainable params: 1,290,344\n",
      "Non-trainable params: 0\n",
      "_________________________________________________________________\n",
      "Train on 110288 samples, validate on 27573 samples\n",
      "Epoch 1/10\n",
      "110288/110288 [==============================] - 14s 130us/step - loss: 2.2934 - acc: 0.5058 - val_loss: nan - val_acc: 0.5970\n",
      "Epoch 2/10\n",
      "110288/110288 [==============================] - 9s 81us/step - loss: 1.4917 - acc: 0.5946 - val_loss: nan - val_acc: 0.6299\n",
      "Epoch 3/10\n",
      "110288/110288 [==============================] - 9s 81us/step - loss: 1.3203 - acc: 0.6207 - val_loss: nan - val_acc: 0.6504\n",
      "Epoch 4/10\n",
      "110288/110288 [==============================] - 9s 81us/step - loss: 1.2289 - acc: 0.6353 - val_loss: nan - val_acc: 0.6611\n",
      "Epoch 5/10\n",
      "110288/110288 [==============================] - 9s 81us/step - loss: 1.1655 - acc: 0.6467 - val_loss: nan - val_acc: 0.6680\n",
      "Epoch 6/10\n",
      "110288/110288 [==============================] - 9s 81us/step - loss: 1.1200 - acc: 0.6546 - val_loss: nan - val_acc: 0.6740\n",
      "Epoch 7/10\n",
      "110288/110288 [==============================] - 9s 81us/step - loss: 1.0835 - acc: 0.6608 - val_loss: nan - val_acc: 0.6808\n",
      "Epoch 8/10\n",
      "110288/110288 [==============================] - 9s 81us/step - loss: 1.0536 - acc: 0.6663 - val_loss: nan - val_acc: 0.6878\n",
      "Epoch 9/10\n",
      "110288/110288 [==============================] - 9s 81us/step - loss: 1.0186 - acc: 0.6751 - val_loss: nan - val_acc: 0.7052\n",
      "Epoch 10/10\n",
      "110288/110288 [==============================] - 9s 81us/step - loss: 0.9799 - acc: 0.6872 - val_loss: nan - val_acc: 0.7184\n",
      "new jersey est parfois calme en l' de mai et il est est en <PAD> <PAD> <PAD> <PAD> <PAD> <PAD> <PAD>\n"
     ]
    }
   ],
   "source": [
    "def simple_model(input_shape, output_sequence_length, english_vocab_size, french_vocab_size):\n",
    "    \"\"\"\n",
    "    Build and train a basic RNN on x and y\n",
    "    :param input_shape: Tuple of input shape\n",
    "    :param output_sequence_length: Length of output sequence\n",
    "    :param english_vocab_size: Number of unique English words in the dataset\n",
    "    :param french_vocab_size: Number of unique French words in the dataset\n",
    "    :return: Keras model built, but not trained\n",
    "    \"\"\"\n",
    "    # hyperparameters\n",
    "    learning_rate = 1e-3\n",
    "    gru_units = 600\n",
    "    \n",
    "    # model\n",
    "    model = Sequential()\n",
    "    model.add(GRU(gru_units, return_sequences=True, input_shape=input_shape[1:]))\n",
    "    model.add(TimeDistributed(Dense(french_vocab_size, activation='softmax')))\n",
    "    model.compile(loss=sparse_categorical_crossentropy,\n",
    "                  optimizer=Adam(learning_rate),\n",
    "                  metrics=['accuracy'])\n",
    "    return model\n",
    "tests.test_simple_model(simple_model)\n",
    "\n",
    "# Reshaping the input to work with a basic RNN\n",
    "tmp_x = pad(preproc_english_sentences, max_french_sequence_length)\n",
    "tmp_x = tmp_x.reshape((-1, preproc_french_sentences.shape[-2], 1))\n",
    "\n",
    "# Train the neural network\n",
    "simple_rnn_model = simple_model(\n",
    "    tmp_x.shape,\n",
    "    max_french_sequence_length,\n",
    "    english_vocab_size,\n",
    "    french_vocab_size)\n",
    "simple_rnn_model.summary()\n",
    "simple_rnn_model.fit(tmp_x, preproc_french_sentences, batch_size=1024, epochs=10, validation_split=0.2)\n",
    "\n",
    "# Print prediction(s)\n",
    "print(logits_to_text(simple_rnn_model.predict(tmp_x[:1])[0], french_tokenizer))"
   ]
  },
  {
   "cell_type": "markdown",
   "metadata": {},
   "source": [
    "### Model 2: Embedding (IMPLEMENTATION)\n",
    "![RNN](images/embedding.png)\n",
    "You've turned the words into ids, but there's a better representation of a word.  This is called word embeddings.  An embedding is a vector representation of the word that is close to similar words in n-dimensional space, where the n represents the size of the embedding vectors.\n",
    "\n",
    "In this model, you'll create a RNN model using embedding."
   ]
  },
  {
   "cell_type": "code",
   "execution_count": 87,
   "metadata": {},
   "outputs": [
    {
     "name": "stderr",
     "output_type": "stream",
     "text": [
      "/home/pjordan/anaconda3/envs/aind-nlp-capstone/lib/python3.5/site-packages/keras/engine/sequential.py:109: UserWarning: `Sequential.model` is deprecated. `Sequential` is a subclass of `Model`, you can just use your `Sequential` instance directly.\n",
      "  warnings.warn('`Sequential.model` is deprecated. '\n"
     ]
    },
    {
     "name": "stdout",
     "output_type": "stream",
     "text": [
      "_________________________________________________________________\n",
      "Layer (type)                 Output Shape              Param #   \n",
      "=================================================================\n",
      "embedding_54 (Embedding)     (None, 21, 200)           39800     \n",
      "_________________________________________________________________\n",
      "gru_127 (GRU)                (None, 21, 400)           721200    \n",
      "_________________________________________________________________\n",
      "time_distributed_96 (TimeDis (None, 21, 344)           137944    \n",
      "=================================================================\n",
      "Total params: 898,944\n",
      "Trainable params: 898,944\n",
      "Non-trainable params: 0\n",
      "_________________________________________________________________\n",
      "Train on 110288 samples, validate on 27573 samples\n",
      "Epoch 1/10\n",
      "110288/110288 [==============================] - 13s 118us/step - loss: 2.9624 - acc: 0.4564 - val_loss: nan - val_acc: 0.5315\n",
      "Epoch 2/10\n",
      "110288/110288 [==============================] - 7s 66us/step - loss: 1.5147 - acc: 0.6431 - val_loss: nan - val_acc: 0.7259\n",
      "Epoch 3/10\n",
      "110288/110288 [==============================] - 7s 66us/step - loss: 0.9047 - acc: 0.7743 - val_loss: nan - val_acc: 0.8126\n",
      "Epoch 4/10\n",
      "110288/110288 [==============================] - 7s 66us/step - loss: 0.6028 - acc: 0.8304 - val_loss: nan - val_acc: 0.8501\n",
      "Epoch 5/10\n",
      "110288/110288 [==============================] - 7s 66us/step - loss: 0.4547 - acc: 0.8646 - val_loss: nan - val_acc: 0.8790\n",
      "Epoch 6/10\n",
      "110288/110288 [==============================] - 7s 66us/step - loss: 0.3694 - acc: 0.8862 - val_loss: nan - val_acc: 0.8926\n",
      "Epoch 7/10\n",
      "110288/110288 [==============================] - 7s 66us/step - loss: 0.3223 - acc: 0.8977 - val_loss: nan - val_acc: 0.9047\n",
      "Epoch 8/10\n",
      "110288/110288 [==============================] - 7s 66us/step - loss: 0.2861 - acc: 0.9078 - val_loss: nan - val_acc: 0.9080\n",
      "Epoch 9/10\n",
      "110288/110288 [==============================] - 7s 66us/step - loss: 0.2633 - acc: 0.9142 - val_loss: nan - val_acc: 0.9159\n",
      "Epoch 10/10\n",
      "110288/110288 [==============================] - 7s 66us/step - loss: 0.2453 - acc: 0.9193 - val_loss: nan - val_acc: 0.9192\n",
      "new jersey est parfois calme en l' automne et il est neigeux en avril <PAD> <PAD> <PAD> <PAD> <PAD> <PAD> <PAD>\n"
     ]
    }
   ],
   "source": [
    "def embed_model(input_shape, output_sequence_length, english_vocab_size, french_vocab_size):\n",
    "    \"\"\"\n",
    "    Build and train a RNN model using word embedding on x and y\n",
    "    :param input_shape: Tuple of input shape\n",
    "    :param output_sequence_length: Length of output sequence\n",
    "    :param english_vocab_size: Number of unique English words in the dataset\n",
    "    :param french_vocab_size: Number of unique French words in the dataset\n",
    "    :return: Keras model built, but not trained\n",
    "    \"\"\"\n",
    "    # hyperparameters\n",
    "    learning_rate = 1e-3\n",
    "    gru_units = 400\n",
    "    embedding_size = 200\n",
    "    \n",
    "    # model \n",
    "    model = Sequential()\n",
    "    model.add(Embedding(input_dim=english_vocab_size,output_dim=embedding_size,input_shape=input_shape[1:]))\n",
    "    model.add(GRU(gru_units, return_sequences=True))\n",
    "    model.add(TimeDistributed(Dense(french_vocab_size, activation='softmax')))\n",
    "    model.compile(loss=sparse_categorical_crossentropy,\n",
    "                  optimizer=Adam(learning_rate),\n",
    "                  metrics=['accuracy'])\n",
    "    return model\n",
    "tests.test_embed_model(embed_model)\n",
    "\n",
    "# Reshaping the input to work with a basic RNN\n",
    "tmp_x = pad(preproc_english_sentences, max_french_sequence_length)\n",
    "tmp_x = tmp_x.reshape((-1, preproc_french_sentences.shape[-2]))\n",
    "\n",
    "# Train the neural network\n",
    "embed_rnn_model = embed_model(\n",
    "    tmp_x.shape,\n",
    "    max_french_sequence_length,\n",
    "    english_vocab_size,\n",
    "    french_vocab_size)\n",
    "embed_rnn_model.summary()\n",
    "embed_rnn_model.fit(tmp_x, preproc_french_sentences, batch_size=1024, epochs=10, validation_split=0.2)\n",
    "\n",
    "# Print prediction(s)\n",
    "print(logits_to_text(embedd_rnn_model.predict(tmp_x[:1])[0], french_tokenizer))"
   ]
  },
  {
   "cell_type": "markdown",
   "metadata": {},
   "source": [
    "### Model 3: Bidirectional RNNs (IMPLEMENTATION)\n",
    "![RNN](images/bidirectional.png)\n",
    "One restriction of a RNN is that it can't see the future input, only the past.  This is where bidirectional recurrent neural networks come in.  They are able to see the future data."
   ]
  },
  {
   "cell_type": "code",
   "execution_count": 89,
   "metadata": {},
   "outputs": [
    {
     "name": "stderr",
     "output_type": "stream",
     "text": [
      "/home/pjordan/anaconda3/envs/aind-nlp-capstone/lib/python3.5/site-packages/keras/engine/sequential.py:109: UserWarning: `Sequential.model` is deprecated. `Sequential` is a subclass of `Model`, you can just use your `Sequential` instance directly.\n",
      "  warnings.warn('`Sequential.model` is deprecated. '\n"
     ]
    },
    {
     "name": "stdout",
     "output_type": "stream",
     "text": [
      "_________________________________________________________________\n",
      "Layer (type)                 Output Shape              Param #   \n",
      "=================================================================\n",
      "bidirectional_38 (Bidirectio (None, 21, 800)           964800    \n",
      "_________________________________________________________________\n",
      "time_distributed_99 (TimeDis (None, 21, 344)           275544    \n",
      "=================================================================\n",
      "Total params: 1,240,344\n",
      "Trainable params: 1,240,344\n",
      "Non-trainable params: 0\n",
      "_________________________________________________________________\n",
      "Train on 110288 samples, validate on 27573 samples\n",
      "Epoch 1/10\n",
      "110288/110288 [==============================] - 18s 159us/step - loss: 1.9521 - acc: 0.5650 - val_loss: nan - val_acc: 0.6194\n",
      "Epoch 2/10\n",
      "110288/110288 [==============================] - 11s 101us/step - loss: 1.2861 - acc: 0.6364 - val_loss: nan - val_acc: 0.6508\n",
      "Epoch 3/10\n",
      "110288/110288 [==============================] - 11s 101us/step - loss: 1.1502 - acc: 0.6639 - val_loss: nan - val_acc: 0.6784\n",
      "Epoch 4/10\n",
      "110288/110288 [==============================] - 11s 101us/step - loss: 1.0568 - acc: 0.6822 - val_loss: nan - val_acc: 0.6906\n",
      "Epoch 5/10\n",
      "110288/110288 [==============================] - 11s 101us/step - loss: 0.9844 - acc: 0.6938 - val_loss: nan - val_acc: 0.6989\n",
      "Epoch 6/10\n",
      "110288/110288 [==============================] - 11s 101us/step - loss: 0.9283 - acc: 0.7031 - val_loss: nan - val_acc: 0.7059\n",
      "Epoch 7/10\n",
      "110288/110288 [==============================] - 11s 101us/step - loss: 0.8854 - acc: 0.7115 - val_loss: nan - val_acc: 0.7095\n",
      "Epoch 8/10\n",
      "110288/110288 [==============================] - 11s 101us/step - loss: 0.8467 - acc: 0.7194 - val_loss: nan - val_acc: 0.7245\n",
      "Epoch 9/10\n",
      "110288/110288 [==============================] - 11s 102us/step - loss: 0.8119 - acc: 0.7274 - val_loss: nan - val_acc: 0.7294\n",
      "Epoch 10/10\n",
      "110288/110288 [==============================] - 11s 101us/step - loss: 0.7804 - acc: 0.7363 - val_loss: nan - val_acc: 0.7379\n"
     ]
    },
    {
     "data": {
      "text/plain": [
       "<keras.callbacks.History at 0x7fdcea7919b0>"
      ]
     },
     "execution_count": 89,
     "metadata": {},
     "output_type": "execute_result"
    }
   ],
   "source": [
    "def bd_model(input_shape, output_sequence_length, english_vocab_size, french_vocab_size):\n",
    "    \"\"\"\n",
    "    Build and train a bidirectional RNN model on x and y\n",
    "    :param input_shape: Tuple of input shape\n",
    "    :param output_sequence_length: Length of output sequence\n",
    "    :param english_vocab_size: Number of unique English words in the dataset\n",
    "    :param french_vocab_size: Number of unique French words in the dataset\n",
    "    :return: Keras model built, but not trained\n",
    "    \"\"\"\n",
    "    # hyperparameters\n",
    "    learning_rate = 1e-3\n",
    "    gru_units = 400\n",
    "    \n",
    "    # model\n",
    "    model = Sequential()\n",
    "    model.add(Bidirectional(GRU(gru_units, return_sequences=True), input_shape=input_shape[1:]))\n",
    "    model.add(TimeDistributed(Dense(french_vocab_size, activation='softmax')))\n",
    "    model.compile(loss=sparse_categorical_crossentropy,\n",
    "                  optimizer=Adam(learning_rate),\n",
    "                  metrics=['accuracy'])\n",
    "    return model\n",
    "tests.test_bd_model(bd_model)\n",
    "\n",
    "# Reshaping the input to work with a basic RNN\n",
    "tmp_x = pad(preproc_english_sentences, max_french_sequence_length)\n",
    "tmp_x = tmp_x.reshape((-1, preproc_french_sentences.shape[-2], 1))\n",
    "\n",
    "# Train the neural network\n",
    "bd_rnn_model = bd_model(\n",
    "    tmp_x.shape,\n",
    "    max_french_sequence_length,\n",
    "    english_vocab_size,\n",
    "    french_vocab_size)\n",
    "bd_rnn_model.summary()\n",
    "bd_rnn_model.fit(tmp_x, preproc_french_sentences, batch_size=1024, epochs=10, validation_split=0.2)"
   ]
  },
  {
   "cell_type": "markdown",
   "metadata": {},
   "source": [
    "### Model 4: Encoder-Decoder (OPTIONAL)\n",
    "Time to look at encoder-decoder models.  This model is made up of an encoder and decoder. The encoder creates a matrix representation of the sentence.  The decoder takes this matrix as input and predicts the translation as output.\n",
    "\n",
    "Create an encoder-decoder model in the cell below."
   ]
  },
  {
   "cell_type": "code",
   "execution_count": 91,
   "metadata": {},
   "outputs": [
    {
     "name": "stderr",
     "output_type": "stream",
     "text": [
      "/home/pjordan/anaconda3/envs/aind-nlp-capstone/lib/python3.5/site-packages/keras/engine/sequential.py:109: UserWarning: `Sequential.model` is deprecated. `Sequential` is a subclass of `Model`, you can just use your `Sequential` instance directly.\n",
      "  warnings.warn('`Sequential.model` is deprecated. '\n"
     ]
    },
    {
     "name": "stdout",
     "output_type": "stream",
     "text": [
      "_________________________________________________________________\n",
      "Layer (type)                 Output Shape              Param #   \n",
      "=================================================================\n",
      "gru_138 (GRU)                (None, 300)               271800    \n",
      "_________________________________________________________________\n",
      "repeat_vector_24 (RepeatVect (None, 21, 300)           0         \n",
      "_________________________________________________________________\n",
      "gru_139 (GRU)                (None, 21, 300)           540900    \n",
      "_________________________________________________________________\n",
      "time_distributed_103 (TimeDi (None, 21, 344)           103544    \n",
      "=================================================================\n",
      "Total params: 916,244\n",
      "Trainable params: 916,244\n",
      "Non-trainable params: 0\n",
      "_________________________________________________________________\n",
      "Train on 110288 samples, validate on 27573 samples\n",
      "Epoch 1/10\n",
      "110288/110288 [==============================] - 17s 151us/step - loss: 2.8653 - acc: 0.4513 - val_loss: nan - val_acc: 0.4970\n",
      "Epoch 2/10\n",
      "110288/110288 [==============================] - 10s 91us/step - loss: 2.1091 - acc: 0.5214 - val_loss: nan - val_acc: 0.5445\n",
      "Epoch 3/10\n",
      "110288/110288 [==============================] - 10s 92us/step - loss: 1.7485 - acc: 0.5562 - val_loss: nan - val_acc: 0.5703\n",
      "Epoch 4/10\n",
      "110288/110288 [==============================] - 10s 91us/step - loss: 1.6152 - acc: 0.5718 - val_loss: nan - val_acc: 0.5837\n",
      "Epoch 5/10\n",
      "110288/110288 [==============================] - 10s 91us/step - loss: 1.5154 - acc: 0.5901 - val_loss: nan - val_acc: 0.5993\n",
      "Epoch 6/10\n",
      "110288/110288 [==============================] - 10s 91us/step - loss: 1.4354 - acc: 0.6022 - val_loss: nan - val_acc: 0.6074\n",
      "Epoch 7/10\n",
      "110288/110288 [==============================] - 10s 91us/step - loss: 1.3790 - acc: 0.6139 - val_loss: nan - val_acc: 0.6201\n",
      "Epoch 8/10\n",
      "110288/110288 [==============================] - 10s 91us/step - loss: 1.3328 - acc: 0.6224 - val_loss: nan - val_acc: 0.6280\n",
      "Epoch 9/10\n",
      "110288/110288 [==============================] - 10s 91us/step - loss: 1.2880 - acc: 0.6307 - val_loss: nan - val_acc: 0.6350\n",
      "Epoch 10/10\n",
      "110288/110288 [==============================] - 10s 91us/step - loss: 1.2515 - acc: 0.6361 - val_loss: nan - val_acc: 0.6379\n"
     ]
    },
    {
     "data": {
      "text/plain": [
       "<keras.callbacks.History at 0x7fdce6d36fd0>"
      ]
     },
     "execution_count": 91,
     "metadata": {},
     "output_type": "execute_result"
    }
   ],
   "source": [
    "def encdec_model(input_shape, output_sequence_length, english_vocab_size, french_vocab_size):\n",
    "    \"\"\"\n",
    "    Build and train an encoder-decoder model on x and y\n",
    "    :param input_shape: Tuple of input shape\n",
    "    :param output_sequence_length: Length of output sequence\n",
    "    :param english_vocab_size: Number of unique English words in the dataset\n",
    "    :param french_vocab_size: Number of unique French words in the dataset\n",
    "    :return: Keras model built, but not trained\n",
    "    \"\"\"\n",
    "    # hyperparameters\n",
    "    learning_rate = 1e-3\n",
    "    gru_units = 300\n",
    "\n",
    "    # model\n",
    "    model = Sequential()\n",
    "    model.add(GRU(gru_units, input_shape=input_shape[1:])) # encoder\n",
    "    model.add(RepeatVector(output_sequence_length))\n",
    "    model.add(GRU(gru_units, return_sequences=True)) # decoder\n",
    "    model.add(TimeDistributed(Dense(french_vocab_size, activation='softmax')))\n",
    "    model.compile(loss=sparse_categorical_crossentropy,\n",
    "                  optimizer=Adam(learning_rate),\n",
    "                  metrics=['accuracy'])\n",
    "    return model\n",
    "tests.test_encdec_model(encdec_model)\n",
    "\n",
    "# Reshaping the input to work with a basic RNN\n",
    "tmp_x = pad(preproc_english_sentences, max_french_sequence_length)\n",
    "tmp_x = tmp_x.reshape((-1, preproc_french_sentences.shape[-2], 1))\n",
    "\n",
    "# Train the neural network\n",
    "encdec_rnn_model = encdec_model(\n",
    "    tmp_x.shape,\n",
    "    max_french_sequence_length,\n",
    "    english_vocab_size,\n",
    "    french_vocab_size)\n",
    "encdec_rnn_model.summary()\n",
    "encdec_rnn_model.fit(tmp_x, preproc_french_sentences, batch_size=1024, epochs=10, validation_split=0.2)"
   ]
  },
  {
   "cell_type": "markdown",
   "metadata": {},
   "source": [
    "### Model 5: Custom (IMPLEMENTATION)\n",
    "Use everything you learned from the previous models to create a model that incorporates embedding and a bidirectional rnn into one model."
   ]
  },
  {
   "cell_type": "code",
   "execution_count": 94,
   "metadata": {},
   "outputs": [
    {
     "name": "stderr",
     "output_type": "stream",
     "text": [
      "/home/pjordan/anaconda3/envs/aind-nlp-capstone/lib/python3.5/site-packages/keras/engine/sequential.py:109: UserWarning: `Sequential.model` is deprecated. `Sequential` is a subclass of `Model`, you can just use your `Sequential` instance directly.\n",
      "  warnings.warn('`Sequential.model` is deprecated. '\n"
     ]
    },
    {
     "name": "stdout",
     "output_type": "stream",
     "text": [
      "Final Model Loaded\n",
      "_________________________________________________________________\n",
      "Layer (type)                 Output Shape              Param #   \n",
      "=================================================================\n",
      "embedding_60 (Embedding)     (None, 21, 200)           39800     \n",
      "_________________________________________________________________\n",
      "bidirectional_49 (Bidirectio (None, 400)               481200    \n",
      "_________________________________________________________________\n",
      "repeat_vector_30 (RepeatVect (None, 21, 400)           0         \n",
      "_________________________________________________________________\n",
      "bidirectional_50 (Bidirectio (None, 21, 400)           721200    \n",
      "_________________________________________________________________\n",
      "time_distributed_109 (TimeDi (None, 21, 344)           137944    \n",
      "=================================================================\n",
      "Total params: 1,380,144\n",
      "Trainable params: 1,380,144\n",
      "Non-trainable params: 0\n",
      "_________________________________________________________________\n",
      "Train on 110288 samples, validate on 27573 samples\n",
      "Epoch 1/10\n",
      "110288/110288 [==============================] - 24s 217us/step - loss: 2.7072 - acc: 0.4614 - val_loss: nan - val_acc: 0.5301\n",
      "Epoch 2/10\n",
      "110288/110288 [==============================] - 16s 141us/step - loss: 1.6620 - acc: 0.5747 - val_loss: nan - val_acc: 0.6268\n",
      "Epoch 3/10\n",
      "110288/110288 [==============================] - 16s 142us/step - loss: 1.3272 - acc: 0.6439 - val_loss: nan - val_acc: 0.6636\n",
      "Epoch 4/10\n",
      "110288/110288 [==============================] - 16s 141us/step - loss: 1.1639 - acc: 0.6813 - val_loss: nan - val_acc: 0.6972\n",
      "Epoch 5/10\n",
      "110288/110288 [==============================] - 16s 142us/step - loss: 1.0318 - acc: 0.7117 - val_loss: nan - val_acc: 0.7249\n",
      "Epoch 6/10\n",
      "110288/110288 [==============================] - 16s 141us/step - loss: 0.9450 - acc: 0.7322 - val_loss: nan - val_acc: 0.7404\n",
      "Epoch 7/10\n",
      "110288/110288 [==============================] - 16s 142us/step - loss: 0.8767 - acc: 0.7477 - val_loss: nan - val_acc: 0.7573\n",
      "Epoch 8/10\n",
      "110288/110288 [==============================] - 16s 142us/step - loss: 0.8131 - acc: 0.7630 - val_loss: nan - val_acc: 0.7668\n",
      "Epoch 9/10\n",
      "110288/110288 [==============================] - 16s 141us/step - loss: 0.7531 - acc: 0.7800 - val_loss: nan - val_acc: 0.7883\n",
      "Epoch 10/10\n",
      "110288/110288 [==============================] - 16s 141us/step - loss: 0.7035 - acc: 0.7939 - val_loss: nan - val_acc: 0.7997\n"
     ]
    },
    {
     "data": {
      "text/plain": [
       "<keras.callbacks.History at 0x7fdce05b4ba8>"
      ]
     },
     "execution_count": 94,
     "metadata": {},
     "output_type": "execute_result"
    }
   ],
   "source": [
    "def model_final(input_shape, output_sequence_length, english_vocab_size, french_vocab_size):\n",
    "    \"\"\"\n",
    "    Build and train a model that incorporates embedding, encoder-decoder, and bidirectional RNN on x and y\n",
    "    :param input_shape: Tuple of input shape\n",
    "    :param output_sequence_length: Length of output sequence\n",
    "    :param english_vocab_size: Number of unique English words in the dataset\n",
    "    :param french_vocab_size: Number of unique French words in the dataset\n",
    "    :return: Keras model built, but not trained\n",
    "    \"\"\"\n",
    "    # hyperparameters\n",
    "    learning_rate = 1e-3\n",
    "    gru_units = 200\n",
    "    embedding_size = 200\n",
    "    \n",
    "    # model\n",
    "    model = Sequential()\n",
    "    model.add(Embedding(input_dim=english_vocab_size,output_dim=embedding_size,input_shape=input_shape[1:]))\n",
    "    model.add(Bidirectional(GRU(gru_units)))\n",
    "    model.add(RepeatVector(output_sequence_length))\n",
    "    model.add(Bidirectional(GRU(gru_units, return_sequences=True)))\n",
    "    model.add(TimeDistributed(Dense(french_vocab_size, activation='softmax')))\n",
    "    model.compile(loss=sparse_categorical_crossentropy,\n",
    "                  optimizer=Adam(learning_rate),\n",
    "                  metrics=['accuracy'])\n",
    "    return model\n",
    "tests.test_model_final(model_final)\n",
    "\n",
    "\n",
    "print('Final Model Loaded')\n",
    "\n",
    "# Reshaping the input to work with a basic RNN\n",
    "tmp_x = pad(preproc_english_sentences, max_french_sequence_length)\n",
    "tmp_x = tmp_x.reshape((-1, preproc_french_sentences.shape[-2]))\n",
    "\n",
    "# Train the neural network\n",
    "final_rnn_model = model_final(\n",
    "    tmp_x.shape,\n",
    "    max_french_sequence_length,\n",
    "    english_vocab_size,\n",
    "    french_vocab_size)\n",
    "final_rnn_model.summary()\n",
    "final_rnn_model.fit(tmp_x, preproc_french_sentences, batch_size=1024, epochs=10, validation_split=0.2)"
   ]
  },
  {
   "cell_type": "markdown",
   "metadata": {},
   "source": [
    "## Prediction (IMPLEMENTATION)"
   ]
  },
  {
   "cell_type": "code",
   "execution_count": 96,
   "metadata": {},
   "outputs": [
    {
     "name": "stdout",
     "output_type": "stream",
     "text": [
      "Train on 110288 samples, validate on 27573 samples\n",
      "Epoch 1/40\n",
      "110288/110288 [==============================] - 24s 221us/step - loss: 2.6959 - acc: 0.4607 - val_loss: nan - val_acc: 0.5271\n",
      "Epoch 2/40\n",
      "110288/110288 [==============================] - 16s 142us/step - loss: 1.6732 - acc: 0.5717 - val_loss: nan - val_acc: 0.6035\n",
      "Epoch 3/40\n",
      "110288/110288 [==============================] - 16s 141us/step - loss: 1.3446 - acc: 0.6434 - val_loss: nan - val_acc: 0.6575\n",
      "Epoch 4/40\n",
      "110288/110288 [==============================] - 16s 142us/step - loss: 1.1773 - acc: 0.6790 - val_loss: nan - val_acc: 0.6982\n",
      "Epoch 5/40\n",
      "110288/110288 [==============================] - 16s 142us/step - loss: 1.0336 - acc: 0.7122 - val_loss: nan - val_acc: 0.7284\n",
      "Epoch 6/40\n",
      "110288/110288 [==============================] - 16s 141us/step - loss: 0.9290 - acc: 0.7347 - val_loss: nan - val_acc: 0.7450\n",
      "Epoch 7/40\n",
      "110288/110288 [==============================] - 16s 142us/step - loss: 0.8567 - acc: 0.7508 - val_loss: nan - val_acc: 0.7587\n",
      "Epoch 8/40\n",
      "110288/110288 [==============================] - 16s 142us/step - loss: 0.7870 - acc: 0.7656 - val_loss: nan - val_acc: 0.7719\n",
      "Epoch 9/40\n",
      "110288/110288 [==============================] - 16s 142us/step - loss: 0.7190 - acc: 0.7827 - val_loss: nan - val_acc: 0.7933\n",
      "Epoch 10/40\n",
      "110288/110288 [==============================] - 16s 141us/step - loss: 0.6552 - acc: 0.8020 - val_loss: nan - val_acc: 0.8121\n",
      "Epoch 11/40\n",
      "110288/110288 [==============================] - 16s 143us/step - loss: 0.5859 - acc: 0.8246 - val_loss: nan - val_acc: 0.8348\n",
      "Epoch 12/40\n",
      "110288/110288 [==============================] - 16s 143us/step - loss: 0.5322 - acc: 0.8420 - val_loss: nan - val_acc: 0.8517\n",
      "Epoch 13/40\n",
      "110288/110288 [==============================] - 16s 142us/step - loss: 0.4799 - acc: 0.8589 - val_loss: nan - val_acc: 0.8668\n",
      "Epoch 14/40\n",
      "110288/110288 [==============================] - 16s 142us/step - loss: 0.4361 - acc: 0.8732 - val_loss: nan - val_acc: 0.8798\n",
      "Epoch 15/40\n",
      "110288/110288 [==============================] - 16s 142us/step - loss: 0.3865 - acc: 0.8903 - val_loss: nan - val_acc: 0.8930\n",
      "Epoch 16/40\n",
      "110288/110288 [==============================] - 16s 143us/step - loss: 0.3453 - acc: 0.9038 - val_loss: nan - val_acc: 0.9081\n",
      "Epoch 17/40\n",
      "110288/110288 [==============================] - 16s 142us/step - loss: 0.3114 - acc: 0.9142 - val_loss: nan - val_acc: 0.9173\n",
      "Epoch 18/40\n",
      "110288/110288 [==============================] - 16s 141us/step - loss: 0.2822 - acc: 0.9225 - val_loss: nan - val_acc: 0.9268\n",
      "Epoch 19/40\n",
      "110288/110288 [==============================] - 16s 143us/step - loss: 0.2505 - acc: 0.9315 - val_loss: nan - val_acc: 0.9330\n",
      "Epoch 20/40\n",
      "110288/110288 [==============================] - 16s 143us/step - loss: 0.2244 - acc: 0.9390 - val_loss: nan - val_acc: 0.9429\n",
      "Epoch 21/40\n",
      "110288/110288 [==============================] - 16s 142us/step - loss: 0.1888 - acc: 0.9504 - val_loss: nan - val_acc: 0.9495\n",
      "Epoch 22/40\n",
      "110288/110288 [==============================] - 16s 142us/step - loss: 0.1669 - acc: 0.9562 - val_loss: nan - val_acc: 0.9540\n",
      "Epoch 23/40\n",
      "110288/110288 [==============================] - 16s 142us/step - loss: 0.1598 - acc: 0.9569 - val_loss: nan - val_acc: 0.9600\n",
      "Epoch 24/40\n",
      "110288/110288 [==============================] - 16s 142us/step - loss: 0.1360 - acc: 0.9635 - val_loss: nan - val_acc: 0.9623\n",
      "Epoch 25/40\n",
      "110288/110288 [==============================] - 16s 142us/step - loss: 0.1254 - acc: 0.9659 - val_loss: nan - val_acc: 0.9636\n",
      "Epoch 26/40\n",
      "110288/110288 [==============================] - 16s 142us/step - loss: 0.1157 - acc: 0.9681 - val_loss: nan - val_acc: 0.9652\n",
      "Epoch 27/40\n",
      "110288/110288 [==============================] - 16s 143us/step - loss: 0.1072 - acc: 0.9704 - val_loss: nan - val_acc: 0.9605\n",
      "Epoch 28/40\n",
      "110288/110288 [==============================] - 16s 142us/step - loss: 0.1020 - acc: 0.9715 - val_loss: nan - val_acc: 0.9681\n",
      "Epoch 29/40\n",
      "110288/110288 [==============================] - 16s 142us/step - loss: 0.0933 - acc: 0.9739 - val_loss: nan - val_acc: 0.9694\n",
      "Epoch 30/40\n",
      "110288/110288 [==============================] - 16s 142us/step - loss: 0.0879 - acc: 0.9750 - val_loss: nan - val_acc: 0.9716\n",
      "Epoch 31/40\n",
      "110288/110288 [==============================] - 16s 142us/step - loss: 0.0855 - acc: 0.9757 - val_loss: nan - val_acc: 0.9714\n",
      "Epoch 32/40\n",
      "110288/110288 [==============================] - 16s 142us/step - loss: 0.0773 - acc: 0.9779 - val_loss: nan - val_acc: 0.9730\n",
      "Epoch 33/40\n",
      "110288/110288 [==============================] - 16s 142us/step - loss: 0.0727 - acc: 0.9792 - val_loss: nan - val_acc: 0.9740\n",
      "Epoch 34/40\n",
      "110288/110288 [==============================] - 16s 142us/step - loss: 0.0685 - acc: 0.9803 - val_loss: nan - val_acc: 0.9759\n",
      "Epoch 35/40\n",
      "110288/110288 [==============================] - 16s 142us/step - loss: 0.0671 - acc: 0.9807 - val_loss: nan - val_acc: 0.9753\n",
      "Epoch 36/40\n",
      "110288/110288 [==============================] - 16s 142us/step - loss: 0.0624 - acc: 0.9821 - val_loss: nan - val_acc: 0.9748\n",
      "Epoch 37/40\n",
      "110288/110288 [==============================] - 16s 142us/step - loss: 0.0707 - acc: 0.9794 - val_loss: nan - val_acc: 0.9759\n",
      "Epoch 38/40\n",
      "110288/110288 [==============================] - 16s 141us/step - loss: 0.0564 - acc: 0.9838 - val_loss: nan - val_acc: 0.9764\n",
      "Epoch 39/40\n",
      "110288/110288 [==============================] - 16s 142us/step - loss: 0.0537 - acc: 0.9846 - val_loss: nan - val_acc: 0.9788\n",
      "Epoch 40/40\n",
      "110288/110288 [==============================] - 16s 142us/step - loss: 0.0469 - acc: 0.9868 - val_loss: nan - val_acc: 0.9788\n",
      "Sample 1:\n",
      "il a vu un vieux camion jaune <PAD> <PAD> <PAD> <PAD> <PAD> <PAD> <PAD> <PAD> <PAD> <PAD> <PAD> <PAD> <PAD> <PAD>\n",
      "Il a vu un vieux camion jaune\n",
      "Sample 2:\n",
      "new jersey est parfois calme pendant l' automne et il est neigeux en avril <PAD> <PAD> <PAD> <PAD> <PAD> <PAD> <PAD>\n",
      "new jersey est parfois calme pendant l' automne et il est neigeux en avril <PAD> <PAD> <PAD> <PAD> <PAD> <PAD> <PAD>\n"
     ]
    }
   ],
   "source": [
    "def final_predictions(x, y, x_tk, y_tk):\n",
    "    \"\"\"\n",
    "    Gets predictions using the final model\n",
    "    :param x: Preprocessed English data\n",
    "    :param y: Preprocessed French data\n",
    "    :param x_tk: English tokenizer\n",
    "    :param y_tk: French tokenizer\n",
    "    \"\"\"\n",
    "    # TODO: Train neural network using model_final\n",
    "    x = pad(x, y.shape[1])\n",
    "    x = x.reshape((-1, y.shape[-2]))\n",
    "    \n",
    "    model = model_final(x.shape, y.shape[1], len(x_tk.word_index), len(y_tk.word_index))\n",
    "    model.fit(x, y, batch_size=1024, epochs=40, validation_split=0.2)\n",
    "\n",
    "    \n",
    "    ## DON'T EDIT ANYTHING BELOW THIS LINE\n",
    "    y_id_to_word = {value: key for key, value in y_tk.word_index.items()}\n",
    "    y_id_to_word[0] = '<PAD>'\n",
    "\n",
    "    sentence = 'he saw a old yellow truck'\n",
    "    sentence = [x_tk.word_index[word] for word in sentence.split()]\n",
    "    sentence = pad_sequences([sentence], maxlen=x.shape[-1], padding='post')\n",
    "    sentences = np.array([sentence[0], x[0]])\n",
    "    predictions = model.predict(sentences, len(sentences))\n",
    "\n",
    "    print('Sample 1:')\n",
    "    print(' '.join([y_id_to_word[np.argmax(x)] for x in predictions[0]]))\n",
    "    print('Il a vu un vieux camion jaune')\n",
    "    print('Sample 2:')\n",
    "    print(' '.join([y_id_to_word[np.argmax(x)] for x in predictions[1]]))\n",
    "    print(' '.join([y_id_to_word[np.max(x)] for x in y[0]]))\n",
    "\n",
    "\n",
    "final_predictions(preproc_english_sentences, preproc_french_sentences, english_tokenizer, french_tokenizer)"
   ]
  },
  {
   "cell_type": "markdown",
   "metadata": {},
   "source": [
    "## Submission\n",
    "When you're ready to submit, complete the following steps:\n",
    "1. Review the [rubric](https://review.udacity.com/#!/rubrics/1004/view) to ensure your submission meets all requirements to pass\n",
    "2. Generate an HTML version of this notebook\n",
    "\n",
    "  - Run the next cell to attempt automatic generation (this is the recommended method in Workspaces)\n",
    "  - Navigate to **FILE -> Download as -> HTML (.html)**\n",
    "  - Manually generate a copy using `nbconvert` from your shell terminal\n",
    "```\n",
    "$ pip install nbconvert\n",
    "$ python -m nbconvert machine_translation.ipynb\n",
    "```\n",
    "  \n",
    "3. Submit the project\n",
    "\n",
    "  - If you are in a Workspace, simply click the \"Submit Project\" button (bottom towards the right)\n",
    "  \n",
    "  - Otherwise, add the following files into a zip archive and submit them \n",
    "  - `helper.py`\n",
    "  - `machine_translation.ipynb`\n",
    "  - `machine_translation.html`\n",
    "    - You can export the notebook by navigating to **File -> Download as -> HTML (.html)**."
   ]
  },
  {
   "cell_type": "code",
   "execution_count": null,
   "metadata": {},
   "outputs": [],
   "source": [
    "!!python -m nbconvert *.ipynb"
   ]
  },
  {
   "cell_type": "markdown",
   "metadata": {},
   "source": [
    "## Optional Enhancements\n",
    "\n",
    "This project focuses on learning various network architectures for machine translation, but we don't evaluate the models according to best practices by splitting the data into separate test & training sets -- so the model accuracy is overstated. Use the [`sklearn.model_selection.train_test_split()`](http://scikit-learn.org/stable/modules/generated/sklearn.model_selection.train_test_split.html) function to create separate training & test datasets, then retrain each of the models using only the training set and evaluate the prediction accuracy using the hold out test set. Does the \"best\" model change?"
   ]
  }
 ],
 "metadata": {
  "kernelspec": {
   "display_name": "Python [conda env:aind-nlp-capstone]",
   "language": "python",
   "name": "conda-env-aind-nlp-capstone-py"
  },
  "language_info": {
   "codemirror_mode": {
    "name": "ipython",
    "version": 3
   },
   "file_extension": ".py",
   "mimetype": "text/x-python",
   "name": "python",
   "nbconvert_exporter": "python",
   "pygments_lexer": "ipython3",
   "version": "3.5.6"
  }
 },
 "nbformat": 4,
 "nbformat_minor": 2
}
